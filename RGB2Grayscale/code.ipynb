{
 "cells": [
  {
   "cell_type": "code",
   "execution_count": 1,
   "metadata": {},
   "outputs": [],
   "source": [
    "%matplotlib inline\n",
    "import cv2 as cv\n",
    "import numpy as np\n",
    "import matplotlib.pyplot as plt\n",
    "\n",
    "img = cv.imread('sample.png')\n",
    "img_RGB = cv.cvtColor(img,cv.COLOR_BGR2RGB)"
   ]
  },
  {
   "attachments": {},
   "cell_type": "markdown",
   "metadata": {},
   "source": [
    "### Generating the Input for RISC-V Processor"
   ]
  },
  {
   "cell_type": "code",
   "execution_count": null,
   "metadata": {},
   "outputs": [],
   "source": [
    "x = []\n",
    "num = []\n",
    "for i in img_RGB:\n",
    "    for j in i:\n",
    "        for k in j:\n",
    "            x.append(\"0\"*(34 - len(bin(k))) + bin(k)[2:])\n",
    "            num.append(k)\n",
    "\n",
    "for i,j in enumerate(x):\n",
    "    txt = \"\".join([\"data_ram[\",str(i),\"] = {32'b\",j,\"};\"])\n",
    "    print(txt + \" //\" + str(num[i]))"
   ]
  },
  {
   "attachments": {},
   "cell_type": "markdown",
   "metadata": {},
   "source": [
    "### Generating the Image using the Output of the RISC-V Processor"
   ]
  },
  {
   "cell_type": "code",
   "execution_count": null,
   "metadata": {},
   "outputs": [],
   "source": [
    "with open(\"output.txt\") as file:\n",
    "    x = file.read().split(\"\\n\")\n",
    "\n",
    "y = []\n",
    "for i in x:\n",
    "    y.append(int(i[5:]))\n",
    "\n",
    "img = np.array(y,dtype=np.int32)\n",
    "img = img.reshape(10,10)\n",
    "print(img)"
   ]
  },
  {
   "attachments": {},
   "cell_type": "markdown",
   "metadata": {},
   "source": [
    "### Generating the Image using the python program"
   ]
  },
  {
   "cell_type": "code",
   "execution_count": 4,
   "metadata": {},
   "outputs": [],
   "source": [
    "shape = (10,10)\n",
    "\n",
    "# Weights\n",
    "R = 4 #1/0.3\n",
    "G = 2 #1/0.59\n",
    "B = 8 #1/0.11\n",
    "\n",
    "output = np.ndarray(shape,dtype=np.int64) \n",
    "\n",
    "for i in range(shape[0]):\n",
    "    for j in range(shape[1]):\n",
    "        x = img_RGB[i][j]\n",
    "\n",
    "        r = x[0]/R\n",
    "        g = x[1]/G\n",
    "        b = x[2]/B\n",
    "\n",
    "        y = r + g + b\n",
    "        output[i][j] = y"
   ]
  },
  {
   "attachments": {},
   "cell_type": "markdown",
   "metadata": {},
   "source": [
    "### Results"
   ]
  },
  {
   "cell_type": "code",
   "execution_count": 5,
   "metadata": {},
   "outputs": [
    {
     "data": {
      "image/png": "[encoded data removed]",
      "text/plain": [
       "<Figure size 1200x500 with 3 Axes>"
      ]
     },
     "metadata": {},
     "output_type": "display_data"
    }
   ],
   "source": [
    "f,ax = plt.subplots(1,3,figsize = [12,5])\n",
    "ax[0].imshow(img_RGB)\n",
    "ax[1].imshow(output,cmap = 'gray',vmin = 0,vmax = 255)\n",
    "ax[2].imshow(img,cmap = 'gray',vmin = 0,vmax = 255)\n",
    "ax[0].set_title(\"Original Image\")\n",
    "ax[1].set_title(\"Python\")\n",
    "ax[2].set_title(\"FPGA\")\n",
    "plt.show()"
   ]
  }
 ],
 "metadata": {
  "kernelspec": {
   "display_name": "ComputerVision",
   "language": "python",
   "name": "python3"
  },
  "language_info": {
   "codemirror_mode": {
    "name": "ipython",
    "version": 3
   },
   "file_extension": ".py",
   "mimetype": "text/x-python",
   "name": "python",
   "nbconvert_exporter": "python",
   "pygments_lexer": "ipython3",
   "version": "3.10.9"
  },
  "orig_nbformat": 4,
  "vscode": {
   "interpreter": {
    "hash": "ec5f3899ed35919b80fc8b5f0853e05e2f01c7d25192e25dd3078589543b32e5"
   }
  }
 },
 "nbformat": 4,
 "nbformat_minor": 2
}
